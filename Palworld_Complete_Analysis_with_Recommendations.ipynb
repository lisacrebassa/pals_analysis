{
 "cells": [
  {
   "cell_type": "markdown",
   "id": "03fbb589",
   "metadata": {},
   "source": [
    "# Analyse et recommandations pour Palworld\n",
    "Ce notebook analyse les caractéristiques des Pals et propose des axes d'amélioration pour optimiser l'expérience de jeu, en s'appuyant sur la problématique suivante :\n",
    "\n",
    "### Problématique\n",
    "_\"Étudier les caractéristiques et comportements des créatures pour développer une expérience de jeu plus attrayante, optimisant stratégie de combat et gestion du campement._\"\n",
    "\n",
    "---"
   ]
  },
  {
   "cell_type": "markdown",
   "id": "d82e2019",
   "metadata": {},
   "source": [
    "## Chargement des données nettoyées"
   ]
  },
  {
   "cell_type": "code",
   "execution_count": null,
   "id": "f440b782",
   "metadata": {},
   "outputs": [],
   "source": [
    "import pandas as pd\n",
    "import matplotlib.pyplot as plt\n",
    "import seaborn as sns\n",
    "\n",
    "combat_df = pd.read_csv('Cleaned_Combat_Attribute_Table.csv')\n",
    "job_df = pd.read_csv('Cleaned_Job_Skills_Table.csv')\n",
    "hidden_df = pd.read_csv('hidden_pallu_attributes_cleaned.csv')\n",
    "refresh_df = pd.read_csv('Cleaned_Pal_Refresh_Levels.csv')\n",
    "tower_df = pd.read_csv('Cleaned_Tower_BOSS_Attributes.csv')\n",
    "ordinary_df = pd.read_csv('pals_with_inferred_boss_stats.csv')\n"
   ]
  },
  {
   "cell_type": "markdown",
   "id": "338b0aeb",
   "metadata": {},
   "source": [
    "## Analyse exploratoire des Pals"
   ]
  },
  {
   "cell_type": "code",
   "execution_count": null,
   "id": "194bd89a",
   "metadata": {},
   "outputs": [],
   "source": [
    "fig, axs = plt.subplots(3, 2, figsize=(12, 10))\n",
    "sns.histplot(combat_df['volume_size'], ax=axs[0,0])\n",
    "axs[0,0].set_title('Distribution des tailles des Pals')\n",
    "sns.histplot(combat_df['element_type'], ax=axs[0,1])\n",
    "axs[0,1].set_title('Distribution des catégories')\n",
    "sns.histplot(combat_df['hp'], ax=axs[1,0])\n",
    "axs[1,0].set_title('Distribution des points de vie')\n",
    "sns.histplot(job_df['rarity'], ax=axs[1,1])\n",
    "axs[1,1].set_title('Distribution de la rareté')\n",
    "sns.histplot(hidden_df['foodamount'], ax=axs[2,0])\n",
    "axs[2,0].set_title('Distribution de la consommation alimentaire')\n",
    "plt.tight_layout()\n",
    "plt.show()"
   ]
  },
  {
   "cell_type": "code",
   "execution_count": null,
   "id": "70c681a3",
   "metadata": {},
   "outputs": [],
   "source": [
    "job_df['nb_skills'] = (job_df.select_dtypes(include='number').drop(columns=['handling_speed', 'rarity'], errors='ignore') > 0).sum(axis=1)\n",
    "top_workers = job_df.sort_values('nb_skills', ascending=False).head(10)\n",
    "top_workers[['english_name', 'nb_skills', 'handling_speed']]"
   ]
  },
  {
   "cell_type": "code",
   "execution_count": null,
   "id": "0ca0dcd5",
   "metadata": {},
   "outputs": [],
   "source": [
    "# Pals produisant des ressources au ranch\n",
    "prod_pals = hidden_df[hidden_df['pasture'] > 0]\n",
    "prod_pals[['tribe', 'pasture']]"
   ]
  },
  {
   "cell_type": "code",
   "execution_count": null,
   "id": "5c7f35c1",
   "metadata": {},
   "outputs": [],
   "source": [
    "# Pals nocturnes\n",
    "nocturnes = hidden_df[hidden_df['nocturnal'] == 1]\n",
    "print(f\"Nombre de Pals nocturnes : {len(nocturnes)}\")\n",
    "nocturnes[['tribe', 'rarity', 'foodamount']]"
   ]
  },
  {
   "cell_type": "code",
   "execution_count": null,
   "id": "72a906dc",
   "metadata": {},
   "outputs": [],
   "source": [
    "# Probabilité de capture\n",
    "top_catch = hidden_df.sort_values('capture_probability', ascending=False).head(10)\n",
    "top_catch[['tribe', 'capture_probability']]"
   ]
  },
  {
   "cell_type": "markdown",
   "id": "3a502422",
   "metadata": {},
   "source": [
    "## Axes d'amélioration proposés basés sur les données"
   ]
  },
  {
   "cell_type": "markdown",
   "id": "5cf1e751",
   "metadata": {},
   "source": [
    "### 1. Équilibrage des Pals selon rareté et puissance\n",
    "- Les Pals très polyvalents ont une rareté élevée, ce qui peut limiter l'accessibilité.\n",
    "- Proposer plus de Pals communs avec des compétences spécialisées pour diversifier les stratégies.\n"
   ]
  },
  {
   "cell_type": "code",
   "execution_count": null,
   "id": "cdb95b32",
   "metadata": {},
   "outputs": [],
   "source": [
    "combat_df['total_combat'] = combat_df[['hp', 'melee_attack', 'remote_attack', 'defense']].sum(axis=1)\n",
    "top_rare = pd.merge(job_df[['english_name', 'nb_skills']], combat_df[['name', 'total_combat', 'rarity']], left_on='english_name', right_on='name')\n",
    "top_rare_sorted = top_rare.sort_values('rarity', ascending=False).head(10)\n",
    "top_rare_sorted[['english_name', 'nb_skills', 'total_combat', 'rarity']]"
   ]
  },
  {
   "cell_type": "markdown",
   "id": "6cfdc8bc",
   "metadata": {},
   "source": [
    "### 2. Visibilité et gestion des compétences et ressources\n",
    "- Une meilleure interface en jeu pour afficher clairement compétences et ressources faciliterait la gestion du campement.\n",
    "- Notre analyse identifie les Pals clés pour chaque compétence et ressource.\n"
   ]
  },
  {
   "cell_type": "markdown",
   "id": "4fce26fc",
   "metadata": {},
   "source": [
    "### 3. Interaction jour/nuit\n",
    "- Les Pals nocturnes sont peu nombreux mais avec des caractéristiques distinctes.\n",
    "- Ajouter des quêtes ou bonus spécifiques à la nuit enrichirait le gameplay.\n"
   ]
  },
  {
   "cell_type": "markdown",
   "id": "a0fb4052",
   "metadata": {},
   "source": [
    "### 4. Optimisation de la capture\n",
    "- La probabilité de capture est variable et peut être exploitée stratégiquement.\n",
    "- Proposer des outils en jeu pour influencer cette probabilité augmenterait la profondeur du jeu.\n"
   ]
  },
  {
   "cell_type": "markdown",
   "id": "cc1ee3dd",
   "metadata": {},
   "source": [
    "### 5. Diversification des zones d’apparition\n",
    "- La concentration des Pals dans certaines zones limite l’exploration.\n",
    "- Rééquilibrer la faune par biome encouragerait une exploration plus riche.\n"
   ]
  },
  {
   "cell_type": "code",
   "execution_count": null,
   "id": "c1fa0d10",
   "metadata": {},
   "outputs": [],
   "source": [
    "import matplotlib.pyplot as plt\n",
    "import seaborn as sns\n",
    "plt.figure(figsize=(12,6))\n",
    "sns.countplot(y=refresh_df['refresh_area'], order=refresh_df['refresh_area'].value_counts().index)\n",
    "plt.title(\"Répartition des Pals par zone d'apparition\")\n",
    "plt.show()"
   ]
  },
  {
   "cell_type": "markdown",
   "id": "9ba65c5f",
   "metadata": {},
   "source": [
    "### 6. Balance des Boss\n",
    "- Les Boss les plus puissants peuvent créer des goulots d'étranglement.\n",
    "- Introduire des Boss intermédiaires et des variantes renforcerait la dynamique des combats.\n"
   ]
  },
  {
   "cell_type": "code",
   "execution_count": null,
   "id": "010585f0",
   "metadata": {},
   "outputs": [],
   "source": [
    "tower_df['total_power'] = tower_df[['hp', 'melee_attack', 'remote_attack', 'defense', 'support']].sum(axis=1)\n",
    "ordinary_df['total_power'] = ordinary_df[[col for col in ['hp', 'melee_attack', 'remote_attack', 'defense', 'support'] if col in ordinary_df.columns]].sum(axis=1)\n",
    "top_tower = tower_df.sort_values('total_power', ascending=False).head(5)[['name', 'total_power']]\n",
    "top_ordinary = ordinary_df.sort_values('total_power', ascending=False).head(5)[['name', 'total_power']]\n",
    "top_tower, top_ordinary"
   ]
  },
  {
   "cell_type": "markdown",
   "id": "1b642d52",
   "metadata": {},
   "source": [
    "## Synthèse et recommandations\n",
    "- Introduire des Pals plus accessibles avec compétences clés.\n",
    "- Intégrer en jeu des outils de suivi des compétences et ressources.\n",
    "- Renforcer les mécaniques jour/nuit avec contenu dédié.\n",
    "- Enrichir la capture avec mécaniques d’influence de probabilité.\n",
    "- Rééquilibrer les zones pour encourager l’exploration.\n",
    "- Diversifier la difficulté et types de Boss.\n",
    "\n",
    "Ce notebook peut servir de base pour guider des itérations futures sur le design de Palworld."
   ]
  },
  {
   "cell_type": "code",
   "execution_count": 25,
   "id": "ae7df2e7-5510-4619-b666-5514a61ea9b7",
   "metadata": {},
   "outputs": [
    {
     "name": "stdout",
     "output_type": "stream",
     "text": [
      "Export des graphiques terminé !\n"
     ]
    }
   ],
   "source": [
    "import pandas as pd\n",
    "import matplotlib.pyplot as plt\n",
    "import seaborn as sns\n",
    "\n",
    "# Chargement des données\n",
    "combat_df = pd.read_csv(r\"C:\\Users\\lisac\\Documents\\cleaned dataset\\Cleaned_Combat_Attribute_Table.csv\")\n",
    "job_df = pd.read_csv(r\"C:\\Users\\lisac\\Documents\\cleaned dataset\\Cleaned_Job_Skills_Table.csv\")\n",
    "hidden_df = pd.read_csv(r\"C:\\Users\\lisac\\Documents\\cleaned dataset\\hidden_pallu_attributes_cleaned.csv\")\n",
    "refresh_df = pd.read_csv(r\"C:\\Users\\lisac\\Documents\\cleaned dataset\\Cleaned_Pal_Refresh_Levels.csv\")\n",
    "tower_df = pd.read_csv(r\"C:\\Users\\lisac\\Documents\\cleaned dataset\\Cleaned_Tower_BOSS_Attributes.csv\")\n",
    "ordinary_df = pd.read_csv(r\"C:\\Users\\lisac\\Documents\\cleaned dataset\\pals_with_inferred_boss_stats.csv\")\n",
    "\n",
    "# Fusion de la rareté dans job_df depuis combat_df\n",
    "job_df = job_df.merge(combat_df[['name', 'rarity']], left_on='english_name', right_on='name', how='left')\n",
    "\n",
    "# 1. Distribution des tailles et catégories\n",
    "fig, axs = plt.subplots(1, 2, figsize=(12, 5))\n",
    "sns.histplot(combat_df['volume_size'], ax=axs[0])\n",
    "axs[0].set_title('Distribution des tailles des Pals')\n",
    "\n",
    "elements = pd.concat([combat_df['element_1'].dropna(), combat_df['element_2'].dropna()])\n",
    "sns.histplot(elements, ax=axs[1])\n",
    "axs[1].set_title('Distribution des catégories des Pals')\n",
    "\n",
    "plt.tight_layout()\n",
    "fig.savefig('distribution_taille_categorie.png')\n",
    "plt.close(fig)\n",
    "\n",
    "# 2. Distribution PV et rareté\n",
    "fig, axs = plt.subplots(1, 2, figsize=(12, 5))\n",
    "sns.histplot(combat_df['hp'], ax=axs[0])\n",
    "axs[0].set_title('Distribution des points de vie')\n",
    "sns.histplot(job_df['rarity'], ax=axs[1])\n",
    "axs[1].set_title('Distribution de la rareté')\n",
    "plt.tight_layout()\n",
    "fig.savefig('distribution_pv_rarete.png')\n",
    "plt.close(fig)\n",
    "\n",
    "# 3. Compétences et production\n",
    "job_df['nb_skills'] = (job_df.select_dtypes(include='number').drop(columns=['handling_speed', 'rarity'], errors='ignore') > 0).sum(axis=1)\n",
    "top_workers = job_df.sort_values('nb_skills', ascending=False).head(10)\n",
    "plt.figure(figsize=(8, 5))\n",
    "sns.barplot(x='nb_skills', y='english_name', data=top_workers, orient='h')\n",
    "plt.title('Top 10 Pals par nombre de compétences')\n",
    "plt.tight_layout()\n",
    "plt.savefig('top_competences.png')\n",
    "plt.close()\n",
    "\n",
    "plt.figure(figsize=(8, 5))\n",
    "prod_pals = hidden_df[hidden_df['pasture'] > 0]\n",
    "sns.barplot(x='pasture', y='tribe', data=prod_pals.sort_values('pasture', ascending=False))\n",
    "plt.title('Pals produisant des ressources (pasture)')\n",
    "plt.tight_layout()\n",
    "plt.savefig('production_ranch.png')\n",
    "plt.close()\n",
    "\n",
    "# 4. Pals nocturnes\n",
    "nocturnes = hidden_df[hidden_df['nocturnal'] == 1]\n",
    "plt.figure(figsize=(8, 5))\n",
    "sns.countplot(y='tribe', data=nocturnes, order=nocturnes['tribe'].value_counts().index)\n",
    "plt.title('Pals nocturnes par type')\n",
    "plt.tight_layout()\n",
    "plt.savefig('pals_nocturnes.png')\n",
    "plt.close()\n",
    "\n",
    "# 5. Capture probability top 10\n",
    "top_catch = hidden_df.sort_values('capture_probability', ascending=False).head(10)\n",
    "plt.figure(figsize=(8, 5))\n",
    "sns.barplot(x='capture_probability', y='tribe', data=top_catch)\n",
    "plt.title('Top 10 Pals par probabilité de capture')\n",
    "plt.tight_layout()\n",
    "plt.savefig('top_capture_probability.png')\n",
    "plt.close()\n",
    "\n",
    "# 6. Corrélation attributs combat\n",
    "plt.figure(figsize=(8, 6))\n",
    "corr = combat_df[['hp', 'melee_attack', 'remote_attack', 'defense']].corr()\n",
    "sns.heatmap(corr, annot=True)\n",
    "plt.title('Corrélation des attributs de combat')\n",
    "plt.tight_layout()\n",
    "plt.savefig('correlation_attributs.png')\n",
    "plt.close()\n",
    "\n",
    "# 7. Taille vs puissance\n",
    "plt.figure(figsize=(8, 5))\n",
    "combat_df['total_combat'] = combat_df[['hp', 'melee_attack', 'remote_attack', 'defense']].sum(axis=1)\n",
    "sns.scatterplot(x='volume_size', y='total_combat', data=combat_df)\n",
    "plt.title('Taille vs puissance de combat')\n",
    "plt.tight_layout()\n",
    "plt.savefig('taille_vs_puissance.png')\n",
    "plt.close()\n",
    "\n",
    "# 8. Répartition zones d'apparition\n",
    "plt.figure(figsize=(10, 8))\n",
    "sns.countplot(y=refresh_df['refresh_area'], order=refresh_df['refresh_area'].value_counts().index)\n",
    "plt.title(\"Répartition des Pals par zone d'apparition\")\n",
    "plt.tight_layout()\n",
    "plt.savefig('repartition_zones.png')\n",
    "plt.close()\n",
    "\n",
    "# 9. Puissance Boss Tower\n",
    "tower_df['total_power'] = tower_df[['hp', 'melee_attack', 'remote_attack', 'defense', 'support']].sum(axis=1)\n",
    "top_tower = tower_df.sort_values('total_power', ascending=False).head(5)\n",
    "plt.figure(figsize=(8, 5))\n",
    "sns.barplot(x='total_power', y='name', data=top_tower)\n",
    "plt.title('Top 5 Tower Boss par puissance')\n",
    "plt.tight_layout()\n",
    "plt.savefig('top_tower_boss.png')\n",
    "plt.close()\n",
    "\n",
    "# 10. Puissance Boss Ordinary\n",
    "cols = [col for col in ['hp', 'melee_attack', 'remote_attack', 'defense', 'support'] if col in ordinary_df.columns]\n",
    "ordinary_df['total_power'] = ordinary_df[cols].sum(axis=1)\n",
    "top_ordinary = ordinary_df.sort_values('total_power', ascending=False).head(5)\n",
    "plt.figure(figsize=(8, 5))\n",
    "sns.barplot(x='total_power', y='name', data=top_ordinary)\n",
    "plt.title('Top 5 Ordinary Boss par puissance')\n",
    "plt.tight_layout()\n",
    "plt.savefig('top_ordinary_boss.png')\n",
    "plt.close()\n",
    "\n",
    "print(\"Export des graphiques terminé !\")\n",
    "\n",
    "\n"
   ]
  },
  {
   "cell_type": "code",
   "execution_count": 27,
   "id": "0ba06594-9156-4efe-a45d-4c3ebff5899b",
   "metadata": {},
   "outputs": [
    {
     "name": "stdout",
     "output_type": "stream",
     "text": [
      "C:\\Users\\lisac\\Downloads\n"
     ]
    }
   ],
   "source": [
    "import os\n",
    "print(os.getcwd())\n",
    "\n"
   ]
  },
  {
   "cell_type": "code",
   "execution_count": null,
   "id": "6271bab8-808d-497d-9869-05fab5d2584f",
   "metadata": {},
   "outputs": [],
   "source": []
  }
 ],
 "metadata": {
  "kernelspec": {
   "display_name": "Python [conda env:base] *",
   "language": "python",
   "name": "conda-base-py"
  },
  "language_info": {
   "codemirror_mode": {
    "name": "ipython",
    "version": 3
   },
   "file_extension": ".py",
   "mimetype": "text/x-python",
   "name": "python",
   "nbconvert_exporter": "python",
   "pygments_lexer": "ipython3",
   "version": "3.12.7"
  }
 },
 "nbformat": 4,
 "nbformat_minor": 5
}
